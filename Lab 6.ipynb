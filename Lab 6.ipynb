{
 "cells": [
  {
   "cell_type": "markdown",
   "metadata": {},
   "source": [
    "# Lab 6"
   ]
  },
  {
   "cell_type": "markdown",
   "metadata": {},
   "source": [
    "Michele Benvenuto - 18232"
   ]
  },
  {
   "cell_type": "code",
   "execution_count": 80,
   "metadata": {},
   "outputs": [],
   "source": [
    "import json\n",
    "import pandas as pd\n",
    "import warnings\n",
    "warnings.filterwarnings('ignore')\n",
    "warnings.simplefilter('ignore')"
   ]
  },
  {
   "cell_type": "markdown",
   "metadata": {},
   "source": [
    "## Parte 1 Filtrado y preprocesamiento"
   ]
  },
  {
   "cell_type": "markdown",
   "metadata": {},
   "source": [
    "### Leyendo la data"
   ]
  },
  {
   "cell_type": "code",
   "execution_count": 81,
   "metadata": {},
   "outputs": [],
   "source": [
    "f = open(\"large_eve.json\", \"r\") \n",
    "lines = f.readlines()\n",
    "f.close()\n",
    "jsons = []"
   ]
  },
  {
   "cell_type": "code",
   "execution_count": 82,
   "metadata": {
    "scrolled": true
   },
   "outputs": [],
   "source": [
    "for line in lines:\n",
    "    jsons.append(json.loads(line))"
   ]
  },
  {
   "cell_type": "code",
   "execution_count": 83,
   "metadata": {
    "scrolled": false
   },
   "outputs": [
    {
     "name": "stdout",
     "output_type": "stream",
     "text": [
      "746909\n"
     ]
    }
   ],
   "source": [
    "print(len(jsons))"
   ]
  },
  {
   "cell_type": "code",
   "execution_count": 84,
   "metadata": {
    "scrolled": true
   },
   "outputs": [
    {
     "name": "stdout",
     "output_type": "stream",
     "text": [
      "{'timestamp': '2017-07-22T17:33:15.784100-0500', 'flow_id': 283570730437312, 'pcap_cnt': 18519, 'event_type': 'alert', 'vlan': 130, 'src_ip': '192.168.203.200', 'src_port': 2328, 'dest_ip': '192.181.145.109', 'dest_port': 445, 'proto': 'TCP', 'alert': {'action': 'allowed', 'gid': 1, 'signature_id': 2001569, 'rev': 15, 'signature': 'ET SCAN Behavioral Unusual Port 445 traffic Potential Scan or Infection', 'category': 'Misc activity', 'severity': 3}}\n"
     ]
    }
   ],
   "source": [
    "print(jsons[0])"
   ]
  },
  {
   "cell_type": "markdown",
   "metadata": {},
   "source": [
    "### Filtrando para DNS"
   ]
  },
  {
   "cell_type": "code",
   "execution_count": 85,
   "metadata": {},
   "outputs": [],
   "source": [
    "dns = []\n",
    "for i in jsons:\n",
    "    if \"dns\" in i.keys():\n",
    "        dns.append(i)\n"
   ]
  },
  {
   "cell_type": "code",
   "execution_count": 86,
   "metadata": {
    "scrolled": false
   },
   "outputs": [
    {
     "name": "stdout",
     "output_type": "stream",
     "text": [
      "15749\n"
     ]
    }
   ],
   "source": [
    "print(len(dns))"
   ]
  },
  {
   "cell_type": "code",
   "execution_count": 87,
   "metadata": {
    "scrolled": false
   },
   "outputs": [
    {
     "name": "stdout",
     "output_type": "stream",
     "text": [
      "{'timestamp': '2017-07-22T17:33:27.398815-0500', 'flow_id': 2090016796251365, 'pcap_cnt': 54532, 'event_type': 'dns', 'vlan': 150, 'src_ip': '192.168.207.4', 'src_port': 53, 'dest_ip': '192.168.205.170', 'dest_port': 36690, 'proto': 'UDP', 'dns': {'type': 'answer', 'id': 26728, 'rcode': 'NXDOMAIN', 'rrname': '<root>', 'rrtype': 'SOA', 'ttl': 20864}}\n",
      "{'timestamp': '2017-07-22T17:33:27.397218-0500', 'flow_id': 544618843672482, 'pcap_cnt': 54529, 'event_type': 'dns', 'vlan': 150, 'src_ip': '192.168.205.170', 'src_port': 58844, 'dest_ip': '192.168.207.4', 'dest_port': 53, 'proto': 'UDP', 'dns': {'type': 'query', 'id': 5753, 'rrname': 'aolmtcmxm04.office.aol.com', 'rrtype': 'A', 'tx_id': 0}}\n"
     ]
    }
   ],
   "source": [
    "print(dns[100])\n",
    "print(dns[42])"
   ]
  },
  {
   "cell_type": "markdown",
   "metadata": {},
   "source": [
    "### Creando DataFrame"
   ]
  },
  {
   "cell_type": "code",
   "execution_count": 88,
   "metadata": {},
   "outputs": [],
   "source": [
    "dns_normalized = pd.json_normalize(dns)"
   ]
  },
  {
   "cell_type": "code",
   "execution_count": 89,
   "metadata": {
    "scrolled": true
   },
   "outputs": [
    {
     "data": {
      "text/html": [
       "<div>\n",
       "<style scoped>\n",
       "    .dataframe tbody tr th:only-of-type {\n",
       "        vertical-align: middle;\n",
       "    }\n",
       "\n",
       "    .dataframe tbody tr th {\n",
       "        vertical-align: top;\n",
       "    }\n",
       "\n",
       "    .dataframe thead th {\n",
       "        text-align: right;\n",
       "    }\n",
       "</style>\n",
       "<table border=\"1\" class=\"dataframe\">\n",
       "  <thead>\n",
       "    <tr style=\"text-align: right;\">\n",
       "      <th></th>\n",
       "      <th>timestamp</th>\n",
       "      <th>flow_id</th>\n",
       "      <th>pcap_cnt</th>\n",
       "      <th>event_type</th>\n",
       "      <th>vlan</th>\n",
       "      <th>src_ip</th>\n",
       "      <th>src_port</th>\n",
       "      <th>dest_ip</th>\n",
       "      <th>dest_port</th>\n",
       "      <th>proto</th>\n",
       "      <th>dns.type</th>\n",
       "      <th>dns.id</th>\n",
       "      <th>dns.rrname</th>\n",
       "      <th>dns.rrtype</th>\n",
       "      <th>dns.tx_id</th>\n",
       "      <th>dns.rcode</th>\n",
       "      <th>dns.ttl</th>\n",
       "      <th>dns.rdata</th>\n",
       "    </tr>\n",
       "  </thead>\n",
       "  <tbody>\n",
       "    <tr>\n",
       "      <th>0</th>\n",
       "      <td>2017-07-22T17:33:16.661646-0500</td>\n",
       "      <td>1327836194150542</td>\n",
       "      <td>22269</td>\n",
       "      <td>dns</td>\n",
       "      <td>110</td>\n",
       "      <td>2001:0dbb:0c18:0011:0260:6eff:fe30:0863</td>\n",
       "      <td>59680</td>\n",
       "      <td>2001:0500:0001:0000:0000:0000:803f:0235</td>\n",
       "      <td>53</td>\n",
       "      <td>UDP</td>\n",
       "      <td>query</td>\n",
       "      <td>15529</td>\n",
       "      <td>api.wunderground.com</td>\n",
       "      <td>A</td>\n",
       "      <td>0.0</td>\n",
       "      <td>NaN</td>\n",
       "      <td>NaN</td>\n",
       "      <td>NaN</td>\n",
       "    </tr>\n",
       "    <tr>\n",
       "      <th>1</th>\n",
       "      <td>2017-07-22T17:33:24.990320-0500</td>\n",
       "      <td>2022925111925872</td>\n",
       "      <td>54352</td>\n",
       "      <td>dns</td>\n",
       "      <td>110</td>\n",
       "      <td>2001:0dbb:0c18:0011:0260:6eff:fe30:0863</td>\n",
       "      <td>38051</td>\n",
       "      <td>2001:0500:0003:0000:0000:0000:0000:0042</td>\n",
       "      <td>53</td>\n",
       "      <td>UDP</td>\n",
       "      <td>query</td>\n",
       "      <td>58278</td>\n",
       "      <td>stork79.dropbox.com</td>\n",
       "      <td>A</td>\n",
       "      <td>0.0</td>\n",
       "      <td>NaN</td>\n",
       "      <td>NaN</td>\n",
       "      <td>NaN</td>\n",
       "    </tr>\n",
       "    <tr>\n",
       "      <th>2</th>\n",
       "      <td>2017-07-22T17:33:27.379891-0500</td>\n",
       "      <td>578544790391795</td>\n",
       "      <td>54519</td>\n",
       "      <td>dns</td>\n",
       "      <td>150</td>\n",
       "      <td>192.168.205.170</td>\n",
       "      <td>31393</td>\n",
       "      <td>192.168.207.4</td>\n",
       "      <td>53</td>\n",
       "      <td>UDP</td>\n",
       "      <td>query</td>\n",
       "      <td>54724</td>\n",
       "      <td>hpca-tier2.office.aol.com.ad.aol.aoltw.net</td>\n",
       "      <td>A</td>\n",
       "      <td>0.0</td>\n",
       "      <td>NaN</td>\n",
       "      <td>NaN</td>\n",
       "      <td>NaN</td>\n",
       "    </tr>\n",
       "    <tr>\n",
       "      <th>3</th>\n",
       "      <td>2017-07-22T17:33:27.380146-0500</td>\n",
       "      <td>578544790391795</td>\n",
       "      <td>54520</td>\n",
       "      <td>dns</td>\n",
       "      <td>150</td>\n",
       "      <td>192.168.207.4</td>\n",
       "      <td>53</td>\n",
       "      <td>192.168.205.170</td>\n",
       "      <td>31393</td>\n",
       "      <td>UDP</td>\n",
       "      <td>answer</td>\n",
       "      <td>54724</td>\n",
       "      <td>hpca-tier2.office.aol.com.ad.aol.aoltw.net</td>\n",
       "      <td>NaN</td>\n",
       "      <td>NaN</td>\n",
       "      <td>NXDOMAIN</td>\n",
       "      <td>NaN</td>\n",
       "      <td>NaN</td>\n",
       "    </tr>\n",
       "    <tr>\n",
       "      <th>4</th>\n",
       "      <td>2017-07-22T17:33:27.380146-0500</td>\n",
       "      <td>578544790391795</td>\n",
       "      <td>54520</td>\n",
       "      <td>dns</td>\n",
       "      <td>150</td>\n",
       "      <td>192.168.207.4</td>\n",
       "      <td>53</td>\n",
       "      <td>192.168.205.170</td>\n",
       "      <td>31393</td>\n",
       "      <td>UDP</td>\n",
       "      <td>answer</td>\n",
       "      <td>54724</td>\n",
       "      <td>&lt;root&gt;</td>\n",
       "      <td>SOA</td>\n",
       "      <td>NaN</td>\n",
       "      <td>NXDOMAIN</td>\n",
       "      <td>20864.0</td>\n",
       "      <td>NaN</td>\n",
       "    </tr>\n",
       "    <tr>\n",
       "      <th>...</th>\n",
       "      <td>...</td>\n",
       "      <td>...</td>\n",
       "      <td>...</td>\n",
       "      <td>...</td>\n",
       "      <td>...</td>\n",
       "      <td>...</td>\n",
       "      <td>...</td>\n",
       "      <td>...</td>\n",
       "      <td>...</td>\n",
       "      <td>...</td>\n",
       "      <td>...</td>\n",
       "      <td>...</td>\n",
       "      <td>...</td>\n",
       "      <td>...</td>\n",
       "      <td>...</td>\n",
       "      <td>...</td>\n",
       "      <td>...</td>\n",
       "      <td>...</td>\n",
       "    </tr>\n",
       "    <tr>\n",
       "      <th>15744</th>\n",
       "      <td>2017-07-22T19:47:03.373435-0500</td>\n",
       "      <td>891876064866556</td>\n",
       "      <td>4441474</td>\n",
       "      <td>dns</td>\n",
       "      <td>120</td>\n",
       "      <td>192.168.207.4</td>\n",
       "      <td>53</td>\n",
       "      <td>192.168.202.172</td>\n",
       "      <td>60654</td>\n",
       "      <td>UDP</td>\n",
       "      <td>answer</td>\n",
       "      <td>33107</td>\n",
       "      <td>en-us.start3.mozilla.com</td>\n",
       "      <td>NaN</td>\n",
       "      <td>NaN</td>\n",
       "      <td>NXDOMAIN</td>\n",
       "      <td>NaN</td>\n",
       "      <td>NaN</td>\n",
       "    </tr>\n",
       "    <tr>\n",
       "      <th>15745</th>\n",
       "      <td>2017-07-22T19:47:03.373435-0500</td>\n",
       "      <td>891876064866556</td>\n",
       "      <td>4441474</td>\n",
       "      <td>dns</td>\n",
       "      <td>120</td>\n",
       "      <td>192.168.207.4</td>\n",
       "      <td>53</td>\n",
       "      <td>192.168.202.172</td>\n",
       "      <td>60654</td>\n",
       "      <td>UDP</td>\n",
       "      <td>answer</td>\n",
       "      <td>33107</td>\n",
       "      <td>&lt;root&gt;</td>\n",
       "      <td>SOA</td>\n",
       "      <td>NaN</td>\n",
       "      <td>NXDOMAIN</td>\n",
       "      <td>20864.0</td>\n",
       "      <td>NaN</td>\n",
       "    </tr>\n",
       "    <tr>\n",
       "      <th>15746</th>\n",
       "      <td>2017-07-22T19:47:38.146503-0500</td>\n",
       "      <td>2199315651640391</td>\n",
       "      <td>4452917</td>\n",
       "      <td>dns</td>\n",
       "      <td>130</td>\n",
       "      <td>192.168.203.67</td>\n",
       "      <td>50975</td>\n",
       "      <td>192.168.207.4</td>\n",
       "      <td>53</td>\n",
       "      <td>UDP</td>\n",
       "      <td>query</td>\n",
       "      <td>35892</td>\n",
       "      <td>whitecell.localdomain</td>\n",
       "      <td>AAAA</td>\n",
       "      <td>0.0</td>\n",
       "      <td>NaN</td>\n",
       "      <td>NaN</td>\n",
       "      <td>NaN</td>\n",
       "    </tr>\n",
       "    <tr>\n",
       "      <th>15747</th>\n",
       "      <td>2017-07-22T19:47:38.146953-0500</td>\n",
       "      <td>2199315651640391</td>\n",
       "      <td>4452918</td>\n",
       "      <td>dns</td>\n",
       "      <td>130</td>\n",
       "      <td>192.168.207.4</td>\n",
       "      <td>53</td>\n",
       "      <td>192.168.203.67</td>\n",
       "      <td>50975</td>\n",
       "      <td>UDP</td>\n",
       "      <td>answer</td>\n",
       "      <td>35892</td>\n",
       "      <td>whitecell.localdomain</td>\n",
       "      <td>NaN</td>\n",
       "      <td>NaN</td>\n",
       "      <td>NXDOMAIN</td>\n",
       "      <td>NaN</td>\n",
       "      <td>NaN</td>\n",
       "    </tr>\n",
       "    <tr>\n",
       "      <th>15748</th>\n",
       "      <td>2017-07-22T19:47:38.146953-0500</td>\n",
       "      <td>2199315651640391</td>\n",
       "      <td>4452918</td>\n",
       "      <td>dns</td>\n",
       "      <td>130</td>\n",
       "      <td>192.168.207.4</td>\n",
       "      <td>53</td>\n",
       "      <td>192.168.203.67</td>\n",
       "      <td>50975</td>\n",
       "      <td>UDP</td>\n",
       "      <td>answer</td>\n",
       "      <td>35892</td>\n",
       "      <td>&lt;root&gt;</td>\n",
       "      <td>SOA</td>\n",
       "      <td>NaN</td>\n",
       "      <td>NXDOMAIN</td>\n",
       "      <td>20864.0</td>\n",
       "      <td>NaN</td>\n",
       "    </tr>\n",
       "  </tbody>\n",
       "</table>\n",
       "<p>15749 rows × 18 columns</p>\n",
       "</div>"
      ],
      "text/plain": [
       "                             timestamp           flow_id  pcap_cnt event_type  \\\n",
       "0      2017-07-22T17:33:16.661646-0500  1327836194150542     22269        dns   \n",
       "1      2017-07-22T17:33:24.990320-0500  2022925111925872     54352        dns   \n",
       "2      2017-07-22T17:33:27.379891-0500   578544790391795     54519        dns   \n",
       "3      2017-07-22T17:33:27.380146-0500   578544790391795     54520        dns   \n",
       "4      2017-07-22T17:33:27.380146-0500   578544790391795     54520        dns   \n",
       "...                                ...               ...       ...        ...   \n",
       "15744  2017-07-22T19:47:03.373435-0500   891876064866556   4441474        dns   \n",
       "15745  2017-07-22T19:47:03.373435-0500   891876064866556   4441474        dns   \n",
       "15746  2017-07-22T19:47:38.146503-0500  2199315651640391   4452917        dns   \n",
       "15747  2017-07-22T19:47:38.146953-0500  2199315651640391   4452918        dns   \n",
       "15748  2017-07-22T19:47:38.146953-0500  2199315651640391   4452918        dns   \n",
       "\n",
       "       vlan                                   src_ip  src_port  \\\n",
       "0       110  2001:0dbb:0c18:0011:0260:6eff:fe30:0863     59680   \n",
       "1       110  2001:0dbb:0c18:0011:0260:6eff:fe30:0863     38051   \n",
       "2       150                          192.168.205.170     31393   \n",
       "3       150                            192.168.207.4        53   \n",
       "4       150                            192.168.207.4        53   \n",
       "...     ...                                      ...       ...   \n",
       "15744   120                            192.168.207.4        53   \n",
       "15745   120                            192.168.207.4        53   \n",
       "15746   130                           192.168.203.67     50975   \n",
       "15747   130                            192.168.207.4        53   \n",
       "15748   130                            192.168.207.4        53   \n",
       "\n",
       "                                       dest_ip  dest_port proto dns.type  \\\n",
       "0      2001:0500:0001:0000:0000:0000:803f:0235         53   UDP    query   \n",
       "1      2001:0500:0003:0000:0000:0000:0000:0042         53   UDP    query   \n",
       "2                                192.168.207.4         53   UDP    query   \n",
       "3                              192.168.205.170      31393   UDP   answer   \n",
       "4                              192.168.205.170      31393   UDP   answer   \n",
       "...                                        ...        ...   ...      ...   \n",
       "15744                          192.168.202.172      60654   UDP   answer   \n",
       "15745                          192.168.202.172      60654   UDP   answer   \n",
       "15746                            192.168.207.4         53   UDP    query   \n",
       "15747                           192.168.203.67      50975   UDP   answer   \n",
       "15748                           192.168.203.67      50975   UDP   answer   \n",
       "\n",
       "       dns.id                                  dns.rrname dns.rrtype  \\\n",
       "0       15529                        api.wunderground.com          A   \n",
       "1       58278                         stork79.dropbox.com          A   \n",
       "2       54724  hpca-tier2.office.aol.com.ad.aol.aoltw.net          A   \n",
       "3       54724  hpca-tier2.office.aol.com.ad.aol.aoltw.net        NaN   \n",
       "4       54724                                      <root>        SOA   \n",
       "...       ...                                         ...        ...   \n",
       "15744   33107                    en-us.start3.mozilla.com        NaN   \n",
       "15745   33107                                      <root>        SOA   \n",
       "15746   35892                       whitecell.localdomain       AAAA   \n",
       "15747   35892                       whitecell.localdomain        NaN   \n",
       "15748   35892                                      <root>        SOA   \n",
       "\n",
       "       dns.tx_id dns.rcode  dns.ttl dns.rdata  \n",
       "0            0.0       NaN      NaN       NaN  \n",
       "1            0.0       NaN      NaN       NaN  \n",
       "2            0.0       NaN      NaN       NaN  \n",
       "3            NaN  NXDOMAIN      NaN       NaN  \n",
       "4            NaN  NXDOMAIN  20864.0       NaN  \n",
       "...          ...       ...      ...       ...  \n",
       "15744        NaN  NXDOMAIN      NaN       NaN  \n",
       "15745        NaN  NXDOMAIN  20864.0       NaN  \n",
       "15746        0.0       NaN      NaN       NaN  \n",
       "15747        NaN  NXDOMAIN      NaN       NaN  \n",
       "15748        NaN  NXDOMAIN  20864.0       NaN  \n",
       "\n",
       "[15749 rows x 18 columns]"
      ]
     },
     "execution_count": 89,
     "metadata": {},
     "output_type": "execute_result"
    }
   ],
   "source": [
    "dns_normalized"
   ]
  },
  {
   "cell_type": "code",
   "execution_count": 90,
   "metadata": {},
   "outputs": [],
   "source": [
    "dns_type_A = dns_normalized[dns_normalized['dns.rrtype'] == 'A']"
   ]
  },
  {
   "cell_type": "code",
   "execution_count": 91,
   "metadata": {
    "scrolled": true
   },
   "outputs": [
    {
     "name": "stdout",
     "output_type": "stream",
     "text": [
      "(2849, 18)\n"
     ]
    }
   ],
   "source": [
    "print(dns_type_A.shape)"
   ]
  },
  {
   "cell_type": "code",
   "execution_count": 92,
   "metadata": {},
   "outputs": [],
   "source": [
    "df = dns_type_A.drop_duplicates(subset=['dns.rrname'])"
   ]
  },
  {
   "cell_type": "code",
   "execution_count": 93,
   "metadata": {
    "scrolled": true
   },
   "outputs": [
    {
     "data": {
      "text/plain": [
       "(177, 18)"
      ]
     },
     "execution_count": 93,
     "metadata": {},
     "output_type": "execute_result"
    }
   ],
   "source": [
    "df.shape"
   ]
  },
  {
   "cell_type": "markdown",
   "metadata": {},
   "source": [
    "### Utilizando Flate para obtener el TLD"
   ]
  },
  {
   "cell_type": "code",
   "execution_count": 94,
   "metadata": {},
   "outputs": [],
   "source": [
    "from flare.data_science.features import domain_tld_extract"
   ]
  },
  {
   "cell_type": "code",
   "execution_count": 95,
   "metadata": {},
   "outputs": [],
   "source": [
    "tlds = []\n",
    "for i in df.loc[:,'dns.rrname']:\n",
    "    tlds.append(domain_tld_extract(i))"
   ]
  },
  {
   "cell_type": "code",
   "execution_count": 96,
   "metadata": {},
   "outputs": [],
   "source": [
    "df[\"TLD\"] = tlds"
   ]
  },
  {
   "cell_type": "code",
   "execution_count": 97,
   "metadata": {
    "scrolled": true
   },
   "outputs": [
    {
     "data": {
      "text/html": [
       "<div>\n",
       "<style scoped>\n",
       "    .dataframe tbody tr th:only-of-type {\n",
       "        vertical-align: middle;\n",
       "    }\n",
       "\n",
       "    .dataframe tbody tr th {\n",
       "        vertical-align: top;\n",
       "    }\n",
       "\n",
       "    .dataframe thead th {\n",
       "        text-align: right;\n",
       "    }\n",
       "</style>\n",
       "<table border=\"1\" class=\"dataframe\">\n",
       "  <thead>\n",
       "    <tr style=\"text-align: right;\">\n",
       "      <th></th>\n",
       "      <th>timestamp</th>\n",
       "      <th>flow_id</th>\n",
       "      <th>pcap_cnt</th>\n",
       "      <th>event_type</th>\n",
       "      <th>vlan</th>\n",
       "      <th>src_ip</th>\n",
       "      <th>src_port</th>\n",
       "      <th>dest_ip</th>\n",
       "      <th>dest_port</th>\n",
       "      <th>proto</th>\n",
       "      <th>dns.type</th>\n",
       "      <th>dns.id</th>\n",
       "      <th>dns.rrname</th>\n",
       "      <th>dns.rrtype</th>\n",
       "      <th>dns.tx_id</th>\n",
       "      <th>dns.rcode</th>\n",
       "      <th>dns.ttl</th>\n",
       "      <th>dns.rdata</th>\n",
       "      <th>TLD</th>\n",
       "    </tr>\n",
       "  </thead>\n",
       "  <tbody>\n",
       "    <tr>\n",
       "      <th>0</th>\n",
       "      <td>2017-07-22T17:33:16.661646-0500</td>\n",
       "      <td>1327836194150542</td>\n",
       "      <td>22269</td>\n",
       "      <td>dns</td>\n",
       "      <td>110</td>\n",
       "      <td>2001:0dbb:0c18:0011:0260:6eff:fe30:0863</td>\n",
       "      <td>59680</td>\n",
       "      <td>2001:0500:0001:0000:0000:0000:803f:0235</td>\n",
       "      <td>53</td>\n",
       "      <td>UDP</td>\n",
       "      <td>query</td>\n",
       "      <td>15529</td>\n",
       "      <td>api.wunderground.com</td>\n",
       "      <td>A</td>\n",
       "      <td>0.0</td>\n",
       "      <td>NaN</td>\n",
       "      <td>NaN</td>\n",
       "      <td>NaN</td>\n",
       "      <td>wunderground.com</td>\n",
       "    </tr>\n",
       "    <tr>\n",
       "      <th>1</th>\n",
       "      <td>2017-07-22T17:33:24.990320-0500</td>\n",
       "      <td>2022925111925872</td>\n",
       "      <td>54352</td>\n",
       "      <td>dns</td>\n",
       "      <td>110</td>\n",
       "      <td>2001:0dbb:0c18:0011:0260:6eff:fe30:0863</td>\n",
       "      <td>38051</td>\n",
       "      <td>2001:0500:0003:0000:0000:0000:0000:0042</td>\n",
       "      <td>53</td>\n",
       "      <td>UDP</td>\n",
       "      <td>query</td>\n",
       "      <td>58278</td>\n",
       "      <td>stork79.dropbox.com</td>\n",
       "      <td>A</td>\n",
       "      <td>0.0</td>\n",
       "      <td>NaN</td>\n",
       "      <td>NaN</td>\n",
       "      <td>NaN</td>\n",
       "      <td>dropbox.com</td>\n",
       "    </tr>\n",
       "    <tr>\n",
       "      <th>2</th>\n",
       "      <td>2017-07-22T17:33:27.379891-0500</td>\n",
       "      <td>578544790391795</td>\n",
       "      <td>54519</td>\n",
       "      <td>dns</td>\n",
       "      <td>150</td>\n",
       "      <td>192.168.205.170</td>\n",
       "      <td>31393</td>\n",
       "      <td>192.168.207.4</td>\n",
       "      <td>53</td>\n",
       "      <td>UDP</td>\n",
       "      <td>query</td>\n",
       "      <td>54724</td>\n",
       "      <td>hpca-tier2.office.aol.com.ad.aol.aoltw.net</td>\n",
       "      <td>A</td>\n",
       "      <td>0.0</td>\n",
       "      <td>NaN</td>\n",
       "      <td>NaN</td>\n",
       "      <td>NaN</td>\n",
       "      <td>aoltw.net</td>\n",
       "    </tr>\n",
       "    <tr>\n",
       "      <th>6</th>\n",
       "      <td>2017-07-22T17:33:38.537426-0500</td>\n",
       "      <td>2167545251640146</td>\n",
       "      <td>55687</td>\n",
       "      <td>dns</td>\n",
       "      <td>180</td>\n",
       "      <td>192.168.198.62</td>\n",
       "      <td>35092</td>\n",
       "      <td>192.168.207.4</td>\n",
       "      <td>53</td>\n",
       "      <td>UDP</td>\n",
       "      <td>query</td>\n",
       "      <td>7425</td>\n",
       "      <td>safebrowsing.clients.google.com.home</td>\n",
       "      <td>A</td>\n",
       "      <td>0.0</td>\n",
       "      <td>NaN</td>\n",
       "      <td>NaN</td>\n",
       "      <td>NaN</td>\n",
       "      <td>safebrowsing.clients.google.com.home</td>\n",
       "    </tr>\n",
       "    <tr>\n",
       "      <th>9</th>\n",
       "      <td>2017-07-22T17:33:45.672579-0500</td>\n",
       "      <td>541745511744323</td>\n",
       "      <td>56307</td>\n",
       "      <td>dns</td>\n",
       "      <td>120</td>\n",
       "      <td>192.168.202.172</td>\n",
       "      <td>55580</td>\n",
       "      <td>192.168.207.4</td>\n",
       "      <td>53</td>\n",
       "      <td>UDP</td>\n",
       "      <td>query</td>\n",
       "      <td>12854</td>\n",
       "      <td>fxfeeds.mozilla.com</td>\n",
       "      <td>A</td>\n",
       "      <td>0.0</td>\n",
       "      <td>NaN</td>\n",
       "      <td>NaN</td>\n",
       "      <td>NaN</td>\n",
       "      <td>mozilla.com</td>\n",
       "    </tr>\n",
       "  </tbody>\n",
       "</table>\n",
       "</div>"
      ],
      "text/plain": [
       "                         timestamp           flow_id  pcap_cnt event_type  \\\n",
       "0  2017-07-22T17:33:16.661646-0500  1327836194150542     22269        dns   \n",
       "1  2017-07-22T17:33:24.990320-0500  2022925111925872     54352        dns   \n",
       "2  2017-07-22T17:33:27.379891-0500   578544790391795     54519        dns   \n",
       "6  2017-07-22T17:33:38.537426-0500  2167545251640146     55687        dns   \n",
       "9  2017-07-22T17:33:45.672579-0500   541745511744323     56307        dns   \n",
       "\n",
       "   vlan                                   src_ip  src_port  \\\n",
       "0   110  2001:0dbb:0c18:0011:0260:6eff:fe30:0863     59680   \n",
       "1   110  2001:0dbb:0c18:0011:0260:6eff:fe30:0863     38051   \n",
       "2   150                          192.168.205.170     31393   \n",
       "6   180                           192.168.198.62     35092   \n",
       "9   120                          192.168.202.172     55580   \n",
       "\n",
       "                                   dest_ip  dest_port proto dns.type  dns.id  \\\n",
       "0  2001:0500:0001:0000:0000:0000:803f:0235         53   UDP    query   15529   \n",
       "1  2001:0500:0003:0000:0000:0000:0000:0042         53   UDP    query   58278   \n",
       "2                            192.168.207.4         53   UDP    query   54724   \n",
       "6                            192.168.207.4         53   UDP    query    7425   \n",
       "9                            192.168.207.4         53   UDP    query   12854   \n",
       "\n",
       "                                   dns.rrname dns.rrtype  dns.tx_id dns.rcode  \\\n",
       "0                        api.wunderground.com          A        0.0       NaN   \n",
       "1                         stork79.dropbox.com          A        0.0       NaN   \n",
       "2  hpca-tier2.office.aol.com.ad.aol.aoltw.net          A        0.0       NaN   \n",
       "6        safebrowsing.clients.google.com.home          A        0.0       NaN   \n",
       "9                         fxfeeds.mozilla.com          A        0.0       NaN   \n",
       "\n",
       "   dns.ttl dns.rdata                                   TLD  \n",
       "0      NaN       NaN                      wunderground.com  \n",
       "1      NaN       NaN                           dropbox.com  \n",
       "2      NaN       NaN                             aoltw.net  \n",
       "6      NaN       NaN  safebrowsing.clients.google.com.home  \n",
       "9      NaN       NaN                           mozilla.com  "
      ]
     },
     "execution_count": 97,
     "metadata": {},
     "output_type": "execute_result"
    }
   ],
   "source": [
    "df.head()"
   ]
  },
  {
   "cell_type": "markdown",
   "metadata": {},
   "source": [
    "## Parte 2"
   ]
  },
  {
   "cell_type": "markdown",
   "metadata": {},
   "source": [
    "### Creando un DataFrame basado en esta info para usar mi modelo"
   ]
  },
  {
   "cell_type": "code",
   "execution_count": 98,
   "metadata": {},
   "outputs": [],
   "source": [
    "from flare.data_science.features import domain_extract, entropy\n",
    "import re"
   ]
  },
  {
   "cell_type": "markdown",
   "metadata": {},
   "source": [
    "### Utilizando el clasificador y las funciones de la semana 2"
   ]
  },
  {
   "cell_type": "code",
   "execution_count": 99,
   "metadata": {},
   "outputs": [],
   "source": [
    "def posicionPrimerDigito( s ):\n",
    "    for i, c in enumerate(s):\n",
    "        if c.isdigit():\n",
    "            return i + 1\n",
    "    return 0\n",
    "\n",
    "def proporcionVocalesConsonantes (x):\n",
    "    x = x.lower()\n",
    "    patron_vocales = re.compile('([aeiou])')\n",
    "    patron_consonantes = re.compile('([b-df-hj-np-tv-z])')\n",
    "    vocales = re.findall(patron_vocales, x)\n",
    "    consonantes = re.findall(patron_consonantes, x)\n",
    "    try:\n",
    "        proporcion = len(vocales) / len(consonantes)\n",
    "    except: # Division por cero\n",
    "        proporcion = 0  \n",
    "    return proporcion"
   ]
  },
  {
   "cell_type": "code",
   "execution_count": 100,
   "metadata": {},
   "outputs": [],
   "source": [
    "df_model = pd.DataFrame()\n",
    "df_model['longitud'] = df['dns.rrname'].str.len()\n",
    "df_model['digitos'] = df['dns.rrname'].str.count('[0-9]')\n",
    "df_model['entropia'] = df['dns.rrname'].apply(entropy)\n",
    "df_model['proporcionVocalesConsonantes'] = df['dns.rrname'].apply(proporcionVocalesConsonantes)\n",
    "df_model['posicionPrimerDigito'] = df['dns.rrname'].apply(posicionPrimerDigito)\n"
   ]
  },
  {
   "cell_type": "code",
   "execution_count": 101,
   "metadata": {},
   "outputs": [],
   "source": [
    "from joblib import load"
   ]
  },
  {
   "cell_type": "code",
   "execution_count": 102,
   "metadata": {},
   "outputs": [],
   "source": [
    "clf = load('clf.joblib')"
   ]
  },
  {
   "cell_type": "code",
   "execution_count": 103,
   "metadata": {},
   "outputs": [],
   "source": [
    "predict = clf.predict(df_model)"
   ]
  },
  {
   "cell_type": "code",
   "execution_count": 104,
   "metadata": {},
   "outputs": [],
   "source": [
    "results = []\n",
    "for i in predict:\n",
    "    if i ==1:\n",
    "        results.append(True)\n",
    "    else:\n",
    "        results.append(False)"
   ]
  },
  {
   "cell_type": "code",
   "execution_count": 105,
   "metadata": {
    "scrolled": true
   },
   "outputs": [
    {
     "data": {
      "text/plain": [
       "1                                 dropbox.com\n",
       "2                                   aoltw.net\n",
       "6        safebrowsing.clients.google.com.home\n",
       "45                                 google.com\n",
       "84                             stayonline.net\n",
       "                         ...                 \n",
       "10646                    ejfodfmfxlkgifuf.xyz\n",
       "14730                    192.168.21-28.0.home\n",
       "15507                         192.168.22.201:\n",
       "15716          192.168.22.201:.stayonline.net\n",
       "15737                                real.com\n",
       "Name: TLD, Length: 66, dtype: object"
      ]
     },
     "execution_count": 105,
     "metadata": {},
     "output_type": "execute_result"
    }
   ],
   "source": [
    "df[results]['TLD']"
   ]
  },
  {
   "cell_type": "markdown",
   "metadata": {},
   "source": [
    "### Utilizando el calsificador de Flare"
   ]
  },
  {
   "cell_type": "code",
   "execution_count": 106,
   "metadata": {},
   "outputs": [],
   "source": [
    "from flare.data_science.features import dga_classifier\n",
    "from flare.tools.umbrella import Umbrella"
   ]
  },
  {
   "cell_type": "code",
   "execution_count": 107,
   "metadata": {
    "scrolled": true
   },
   "outputs": [
    {
     "name": "stdout",
     "output_type": "stream",
     "text": [
      "[*] Initializing... training classifier - Please wait.\n",
      "[+] Training classifier on training set\n",
      "[+] Out of sample legit f1 score 0.9988801084083145\n",
      "[+] Out of sample dga f1 score 0.6037267080745341\n",
      "[+] Training final classifier\n",
      "[+] Classifier Ready\n"
     ]
    }
   ],
   "source": [
    "dga = dga_classifier()"
   ]
  },
  {
   "cell_type": "code",
   "execution_count": 108,
   "metadata": {},
   "outputs": [],
   "source": [
    "predicts = []\n",
    "for i in df['dns.rrname']:\n",
    "    predicts.append(dga.predict(i))"
   ]
  },
  {
   "cell_type": "code",
   "execution_count": 109,
   "metadata": {},
   "outputs": [
    {
     "data": {
      "text/html": [
       "<div>\n",
       "<style scoped>\n",
       "    .dataframe tbody tr th:only-of-type {\n",
       "        vertical-align: middle;\n",
       "    }\n",
       "\n",
       "    .dataframe tbody tr th {\n",
       "        vertical-align: top;\n",
       "    }\n",
       "\n",
       "    .dataframe thead th {\n",
       "        text-align: right;\n",
       "    }\n",
       "</style>\n",
       "<table border=\"1\" class=\"dataframe\">\n",
       "  <thead>\n",
       "    <tr style=\"text-align: right;\">\n",
       "      <th></th>\n",
       "      <th>timestamp</th>\n",
       "      <th>flow_id</th>\n",
       "      <th>pcap_cnt</th>\n",
       "      <th>event_type</th>\n",
       "      <th>vlan</th>\n",
       "      <th>src_ip</th>\n",
       "      <th>src_port</th>\n",
       "      <th>dest_ip</th>\n",
       "      <th>dest_port</th>\n",
       "      <th>proto</th>\n",
       "      <th>dns.type</th>\n",
       "      <th>dns.id</th>\n",
       "      <th>dns.rrname</th>\n",
       "      <th>dns.rrtype</th>\n",
       "      <th>dns.tx_id</th>\n",
       "      <th>dns.rcode</th>\n",
       "      <th>dns.ttl</th>\n",
       "      <th>dns.rdata</th>\n",
       "      <th>TLD</th>\n",
       "      <th>class</th>\n",
       "    </tr>\n",
       "  </thead>\n",
       "  <tbody>\n",
       "    <tr>\n",
       "      <th>0</th>\n",
       "      <td>2017-07-22T17:33:16.661646-0500</td>\n",
       "      <td>1327836194150542</td>\n",
       "      <td>22269</td>\n",
       "      <td>dns</td>\n",
       "      <td>110</td>\n",
       "      <td>2001:0dbb:0c18:0011:0260:6eff:fe30:0863</td>\n",
       "      <td>59680</td>\n",
       "      <td>2001:0500:0001:0000:0000:0000:803f:0235</td>\n",
       "      <td>53</td>\n",
       "      <td>UDP</td>\n",
       "      <td>query</td>\n",
       "      <td>15529</td>\n",
       "      <td>api.wunderground.com</td>\n",
       "      <td>A</td>\n",
       "      <td>0.0</td>\n",
       "      <td>NaN</td>\n",
       "      <td>NaN</td>\n",
       "      <td>NaN</td>\n",
       "      <td>wunderground.com</td>\n",
       "      <td>legit</td>\n",
       "    </tr>\n",
       "    <tr>\n",
       "      <th>1</th>\n",
       "      <td>2017-07-22T17:33:24.990320-0500</td>\n",
       "      <td>2022925111925872</td>\n",
       "      <td>54352</td>\n",
       "      <td>dns</td>\n",
       "      <td>110</td>\n",
       "      <td>2001:0dbb:0c18:0011:0260:6eff:fe30:0863</td>\n",
       "      <td>38051</td>\n",
       "      <td>2001:0500:0003:0000:0000:0000:0000:0042</td>\n",
       "      <td>53</td>\n",
       "      <td>UDP</td>\n",
       "      <td>query</td>\n",
       "      <td>58278</td>\n",
       "      <td>stork79.dropbox.com</td>\n",
       "      <td>A</td>\n",
       "      <td>0.0</td>\n",
       "      <td>NaN</td>\n",
       "      <td>NaN</td>\n",
       "      <td>NaN</td>\n",
       "      <td>dropbox.com</td>\n",
       "      <td>legit</td>\n",
       "    </tr>\n",
       "    <tr>\n",
       "      <th>2</th>\n",
       "      <td>2017-07-22T17:33:27.379891-0500</td>\n",
       "      <td>578544790391795</td>\n",
       "      <td>54519</td>\n",
       "      <td>dns</td>\n",
       "      <td>150</td>\n",
       "      <td>192.168.205.170</td>\n",
       "      <td>31393</td>\n",
       "      <td>192.168.207.4</td>\n",
       "      <td>53</td>\n",
       "      <td>UDP</td>\n",
       "      <td>query</td>\n",
       "      <td>54724</td>\n",
       "      <td>hpca-tier2.office.aol.com.ad.aol.aoltw.net</td>\n",
       "      <td>A</td>\n",
       "      <td>0.0</td>\n",
       "      <td>NaN</td>\n",
       "      <td>NaN</td>\n",
       "      <td>NaN</td>\n",
       "      <td>aoltw.net</td>\n",
       "      <td>legit</td>\n",
       "    </tr>\n",
       "    <tr>\n",
       "      <th>6</th>\n",
       "      <td>2017-07-22T17:33:38.537426-0500</td>\n",
       "      <td>2167545251640146</td>\n",
       "      <td>55687</td>\n",
       "      <td>dns</td>\n",
       "      <td>180</td>\n",
       "      <td>192.168.198.62</td>\n",
       "      <td>35092</td>\n",
       "      <td>192.168.207.4</td>\n",
       "      <td>53</td>\n",
       "      <td>UDP</td>\n",
       "      <td>query</td>\n",
       "      <td>7425</td>\n",
       "      <td>safebrowsing.clients.google.com.home</td>\n",
       "      <td>A</td>\n",
       "      <td>0.0</td>\n",
       "      <td>NaN</td>\n",
       "      <td>NaN</td>\n",
       "      <td>NaN</td>\n",
       "      <td>safebrowsing.clients.google.com.home</td>\n",
       "      <td>legit</td>\n",
       "    </tr>\n",
       "    <tr>\n",
       "      <th>9</th>\n",
       "      <td>2017-07-22T17:33:45.672579-0500</td>\n",
       "      <td>541745511744323</td>\n",
       "      <td>56307</td>\n",
       "      <td>dns</td>\n",
       "      <td>120</td>\n",
       "      <td>192.168.202.172</td>\n",
       "      <td>55580</td>\n",
       "      <td>192.168.207.4</td>\n",
       "      <td>53</td>\n",
       "      <td>UDP</td>\n",
       "      <td>query</td>\n",
       "      <td>12854</td>\n",
       "      <td>fxfeeds.mozilla.com</td>\n",
       "      <td>A</td>\n",
       "      <td>0.0</td>\n",
       "      <td>NaN</td>\n",
       "      <td>NaN</td>\n",
       "      <td>NaN</td>\n",
       "      <td>mozilla.com</td>\n",
       "      <td>legit</td>\n",
       "    </tr>\n",
       "  </tbody>\n",
       "</table>\n",
       "</div>"
      ],
      "text/plain": [
       "                         timestamp           flow_id  pcap_cnt event_type  \\\n",
       "0  2017-07-22T17:33:16.661646-0500  1327836194150542     22269        dns   \n",
       "1  2017-07-22T17:33:24.990320-0500  2022925111925872     54352        dns   \n",
       "2  2017-07-22T17:33:27.379891-0500   578544790391795     54519        dns   \n",
       "6  2017-07-22T17:33:38.537426-0500  2167545251640146     55687        dns   \n",
       "9  2017-07-22T17:33:45.672579-0500   541745511744323     56307        dns   \n",
       "\n",
       "   vlan                                   src_ip  src_port  \\\n",
       "0   110  2001:0dbb:0c18:0011:0260:6eff:fe30:0863     59680   \n",
       "1   110  2001:0dbb:0c18:0011:0260:6eff:fe30:0863     38051   \n",
       "2   150                          192.168.205.170     31393   \n",
       "6   180                           192.168.198.62     35092   \n",
       "9   120                          192.168.202.172     55580   \n",
       "\n",
       "                                   dest_ip  dest_port proto dns.type  dns.id  \\\n",
       "0  2001:0500:0001:0000:0000:0000:803f:0235         53   UDP    query   15529   \n",
       "1  2001:0500:0003:0000:0000:0000:0000:0042         53   UDP    query   58278   \n",
       "2                            192.168.207.4         53   UDP    query   54724   \n",
       "6                            192.168.207.4         53   UDP    query    7425   \n",
       "9                            192.168.207.4         53   UDP    query   12854   \n",
       "\n",
       "                                   dns.rrname dns.rrtype  dns.tx_id dns.rcode  \\\n",
       "0                        api.wunderground.com          A        0.0       NaN   \n",
       "1                         stork79.dropbox.com          A        0.0       NaN   \n",
       "2  hpca-tier2.office.aol.com.ad.aol.aoltw.net          A        0.0       NaN   \n",
       "6        safebrowsing.clients.google.com.home          A        0.0       NaN   \n",
       "9                         fxfeeds.mozilla.com          A        0.0       NaN   \n",
       "\n",
       "   dns.ttl dns.rdata                                   TLD  class  \n",
       "0      NaN       NaN                      wunderground.com  legit  \n",
       "1      NaN       NaN                           dropbox.com  legit  \n",
       "2      NaN       NaN                             aoltw.net  legit  \n",
       "6      NaN       NaN  safebrowsing.clients.google.com.home  legit  \n",
       "9      NaN       NaN                           mozilla.com  legit  "
      ]
     },
     "execution_count": 109,
     "metadata": {},
     "output_type": "execute_result"
    }
   ],
   "source": [
    "df['class'] = predicts\n",
    "df.head()"
   ]
  },
  {
   "cell_type": "code",
   "execution_count": 110,
   "metadata": {},
   "outputs": [
    {
     "data": {
      "text/plain": [
       "148        AOLDTCMA04.office.aol.com\n",
       "554      AOLDTCMA04.ad.aol.aoltw.net\n",
       "1044                     www.gnu.org\n",
       "1992                      ky.hec.net\n",
       "2936                     ftp.usf.edu\n",
       "7963                dns.msftncsi.com\n",
       "8026                www.msftncsi.com\n",
       "9856            vtlfccmfxlkgifuf.com\n",
       "10646           ejfodfmfxlkgifuf.xyz\n",
       "Name: dns.rrname, dtype: object"
      ]
     },
     "execution_count": 110,
     "metadata": {},
     "output_type": "execute_result"
    }
   ],
   "source": [
    "df[df['class']== 'dga']['dns.rrname']"
   ]
  },
  {
   "cell_type": "markdown",
   "metadata": {},
   "source": [
    "### Revisando por valores iguales"
   ]
  },
  {
   "cell_type": "code",
   "execution_count": 111,
   "metadata": {},
   "outputs": [
    {
     "data": {
      "text/plain": [
       "148        AOLDTCMA04.office.aol.com\n",
       "554      AOLDTCMA04.ad.aol.aoltw.net\n",
       "1044                     www.gnu.org\n",
       "7963                dns.msftncsi.com\n",
       "8026                www.msftncsi.com\n",
       "9856            vtlfccmfxlkgifuf.com\n",
       "10646           ejfodfmfxlkgifuf.xyz\n",
       "Name: dns.rrname, dtype: object"
      ]
     },
     "execution_count": 111,
     "metadata": {},
     "output_type": "execute_result"
    }
   ],
   "source": [
    "df[results][df['class'] =='dga']['dns.rrname']"
   ]
  },
  {
   "cell_type": "markdown",
   "metadata": {},
   "source": [
    "Se puede observar que si existen dominios que fueron clasificados como DGA por ambos clasificadores pero de los 66 que identifico el modelo solo 8 hacen match con uno que el clasificador dga de Flare reconocio como DGA"
   ]
  },
  {
   "cell_type": "code",
   "execution_count": 112,
   "metadata": {},
   "outputs": [],
   "source": [
    "df_sus = df[df['class']== 'dga']"
   ]
  },
  {
   "cell_type": "markdown",
   "metadata": {},
   "source": [
    "## Parte 3"
   ]
  },
  {
   "cell_type": "code",
   "execution_count": 113,
   "metadata": {},
   "outputs": [
    {
     "name": "stdout",
     "output_type": "stream",
     "text": [
      "[+] Updated Umbrella Top 1 Million list...\n"
     ]
    }
   ],
   "source": [
    "umbrellaCisco = Umbrella(limit= 1000000)"
   ]
  },
  {
   "cell_type": "code",
   "execution_count": 114,
   "metadata": {},
   "outputs": [],
   "source": [
    "NotinUmbrella = []\n",
    "for i in df_sus['TLD']:\n",
    "    if umbrellaCisco.domain_in_umbrella(i):\n",
    "        NotinUmbrella.append(False)\n",
    "    else:\n",
    "        NotinUmbrella.append(True)"
   ]
  },
  {
   "cell_type": "code",
   "execution_count": 115,
   "metadata": {},
   "outputs": [
    {
     "data": {
      "text/html": [
       "<div>\n",
       "<style scoped>\n",
       "    .dataframe tbody tr th:only-of-type {\n",
       "        vertical-align: middle;\n",
       "    }\n",
       "\n",
       "    .dataframe tbody tr th {\n",
       "        vertical-align: top;\n",
       "    }\n",
       "\n",
       "    .dataframe thead th {\n",
       "        text-align: right;\n",
       "    }\n",
       "</style>\n",
       "<table border=\"1\" class=\"dataframe\">\n",
       "  <thead>\n",
       "    <tr style=\"text-align: right;\">\n",
       "      <th></th>\n",
       "      <th>timestamp</th>\n",
       "      <th>flow_id</th>\n",
       "      <th>pcap_cnt</th>\n",
       "      <th>event_type</th>\n",
       "      <th>vlan</th>\n",
       "      <th>src_ip</th>\n",
       "      <th>src_port</th>\n",
       "      <th>dest_ip</th>\n",
       "      <th>dest_port</th>\n",
       "      <th>proto</th>\n",
       "      <th>dns.type</th>\n",
       "      <th>dns.id</th>\n",
       "      <th>dns.rrname</th>\n",
       "      <th>dns.rrtype</th>\n",
       "      <th>dns.tx_id</th>\n",
       "      <th>dns.rcode</th>\n",
       "      <th>dns.ttl</th>\n",
       "      <th>dns.rdata</th>\n",
       "      <th>TLD</th>\n",
       "      <th>class</th>\n",
       "    </tr>\n",
       "  </thead>\n",
       "  <tbody>\n",
       "    <tr>\n",
       "      <th>554</th>\n",
       "      <td>2017-07-22T17:37:20.466444-0500</td>\n",
       "      <td>1258201905372684</td>\n",
       "      <td>75806</td>\n",
       "      <td>dns</td>\n",
       "      <td>150</td>\n",
       "      <td>192.168.205.170</td>\n",
       "      <td>48918</td>\n",
       "      <td>192.168.207.4</td>\n",
       "      <td>53</td>\n",
       "      <td>UDP</td>\n",
       "      <td>query</td>\n",
       "      <td>38493</td>\n",
       "      <td>AOLDTCMA04.ad.aol.aoltw.net</td>\n",
       "      <td>A</td>\n",
       "      <td>0.0</td>\n",
       "      <td>NaN</td>\n",
       "      <td>NaN</td>\n",
       "      <td>NaN</td>\n",
       "      <td>aoltw.net</td>\n",
       "      <td>dga</td>\n",
       "    </tr>\n",
       "    <tr>\n",
       "      <th>1992</th>\n",
       "      <td>2017-07-22T18:26:37.367894-0500</td>\n",
       "      <td>361099395177750</td>\n",
       "      <td>490170</td>\n",
       "      <td>dns</td>\n",
       "      <td>120</td>\n",
       "      <td>192.168.202.64</td>\n",
       "      <td>34529</td>\n",
       "      <td>192.168.207.4</td>\n",
       "      <td>53</td>\n",
       "      <td>UDP</td>\n",
       "      <td>query</td>\n",
       "      <td>46712</td>\n",
       "      <td>ky.hec.net</td>\n",
       "      <td>A</td>\n",
       "      <td>0.0</td>\n",
       "      <td>NaN</td>\n",
       "      <td>NaN</td>\n",
       "      <td>NaN</td>\n",
       "      <td>hec.net</td>\n",
       "      <td>dga</td>\n",
       "    </tr>\n",
       "    <tr>\n",
       "      <th>9856</th>\n",
       "      <td>2017-07-22T19:08:35.866745-0500</td>\n",
       "      <td>455668379133712</td>\n",
       "      <td>3352456</td>\n",
       "      <td>dns</td>\n",
       "      <td>150</td>\n",
       "      <td>192.168.205.191</td>\n",
       "      <td>41174</td>\n",
       "      <td>192.168.207.4</td>\n",
       "      <td>53</td>\n",
       "      <td>UDP</td>\n",
       "      <td>query</td>\n",
       "      <td>1337</td>\n",
       "      <td>vtlfccmfxlkgifuf.com</td>\n",
       "      <td>A</td>\n",
       "      <td>0.0</td>\n",
       "      <td>NaN</td>\n",
       "      <td>NaN</td>\n",
       "      <td>NaN</td>\n",
       "      <td>vtlfccmfxlkgifuf.com</td>\n",
       "      <td>dga</td>\n",
       "    </tr>\n",
       "    <tr>\n",
       "      <th>10646</th>\n",
       "      <td>2017-07-22T19:29:18.937879-0500</td>\n",
       "      <td>455668379133752</td>\n",
       "      <td>3352456</td>\n",
       "      <td>dns</td>\n",
       "      <td>150</td>\n",
       "      <td>192.168.205.190</td>\n",
       "      <td>41174</td>\n",
       "      <td>192.168.207.4</td>\n",
       "      <td>53</td>\n",
       "      <td>UDP</td>\n",
       "      <td>query</td>\n",
       "      <td>31337</td>\n",
       "      <td>ejfodfmfxlkgifuf.xyz</td>\n",
       "      <td>A</td>\n",
       "      <td>0.0</td>\n",
       "      <td>NaN</td>\n",
       "      <td>NaN</td>\n",
       "      <td>NaN</td>\n",
       "      <td>ejfodfmfxlkgifuf.xyz</td>\n",
       "      <td>dga</td>\n",
       "    </tr>\n",
       "  </tbody>\n",
       "</table>\n",
       "</div>"
      ],
      "text/plain": [
       "                             timestamp           flow_id  pcap_cnt event_type  \\\n",
       "554    2017-07-22T17:37:20.466444-0500  1258201905372684     75806        dns   \n",
       "1992   2017-07-22T18:26:37.367894-0500   361099395177750    490170        dns   \n",
       "9856   2017-07-22T19:08:35.866745-0500   455668379133712   3352456        dns   \n",
       "10646  2017-07-22T19:29:18.937879-0500   455668379133752   3352456        dns   \n",
       "\n",
       "       vlan           src_ip  src_port        dest_ip  dest_port proto  \\\n",
       "554     150  192.168.205.170     48918  192.168.207.4         53   UDP   \n",
       "1992    120   192.168.202.64     34529  192.168.207.4         53   UDP   \n",
       "9856    150  192.168.205.191     41174  192.168.207.4         53   UDP   \n",
       "10646   150  192.168.205.190     41174  192.168.207.4         53   UDP   \n",
       "\n",
       "      dns.type  dns.id                   dns.rrname dns.rrtype  dns.tx_id  \\\n",
       "554      query   38493  AOLDTCMA04.ad.aol.aoltw.net          A        0.0   \n",
       "1992     query   46712                   ky.hec.net          A        0.0   \n",
       "9856     query    1337         vtlfccmfxlkgifuf.com          A        0.0   \n",
       "10646    query   31337         ejfodfmfxlkgifuf.xyz          A        0.0   \n",
       "\n",
       "      dns.rcode  dns.ttl dns.rdata                   TLD class  \n",
       "554         NaN      NaN       NaN             aoltw.net   dga  \n",
       "1992        NaN      NaN       NaN               hec.net   dga  \n",
       "9856        NaN      NaN       NaN  vtlfccmfxlkgifuf.com   dga  \n",
       "10646       NaN      NaN       NaN  ejfodfmfxlkgifuf.xyz   dga  "
      ]
     },
     "execution_count": 115,
     "metadata": {},
     "output_type": "execute_result"
    }
   ],
   "source": [
    "#df Not In Umbrella\n",
    "df_NIU = df_sus[NotinUmbrella]\n",
    "df_NIU"
   ]
  },
  {
   "cell_type": "code",
   "execution_count": 116,
   "metadata": {},
   "outputs": [],
   "source": [
    "import whois"
   ]
  },
  {
   "cell_type": "code",
   "execution_count": 117,
   "metadata": {},
   "outputs": [],
   "source": [
    "def get_creation_date(domain):\n",
    "    w = whois.whois(domain)\n",
    "    return w.creation_date\n",
    "     "
   ]
  },
  {
   "cell_type": "code",
   "execution_count": 118,
   "metadata": {},
   "outputs": [],
   "source": [
    "dates = []\n",
    "for i in df_NIU['TLD']:\n",
    "    try:\n",
    "        dates.append(get_creation_date(i))\n",
    "    except:\n",
    "        dates.append(None)    "
   ]
  },
  {
   "cell_type": "code",
   "execution_count": 119,
   "metadata": {},
   "outputs": [
    {
     "data": {
      "text/html": [
       "<div>\n",
       "<style scoped>\n",
       "    .dataframe tbody tr th:only-of-type {\n",
       "        vertical-align: middle;\n",
       "    }\n",
       "\n",
       "    .dataframe tbody tr th {\n",
       "        vertical-align: top;\n",
       "    }\n",
       "\n",
       "    .dataframe thead th {\n",
       "        text-align: right;\n",
       "    }\n",
       "</style>\n",
       "<table border=\"1\" class=\"dataframe\">\n",
       "  <thead>\n",
       "    <tr style=\"text-align: right;\">\n",
       "      <th></th>\n",
       "      <th>TLD</th>\n",
       "      <th>creation_date</th>\n",
       "    </tr>\n",
       "  </thead>\n",
       "  <tbody>\n",
       "    <tr>\n",
       "      <th>554</th>\n",
       "      <td>aoltw.net</td>\n",
       "      <td>2000-01-10 04:09:19</td>\n",
       "    </tr>\n",
       "    <tr>\n",
       "      <th>1992</th>\n",
       "      <td>hec.net</td>\n",
       "      <td>1996-04-24 04:00:00</td>\n",
       "    </tr>\n",
       "    <tr>\n",
       "      <th>9856</th>\n",
       "      <td>vtlfccmfxlkgifuf.com</td>\n",
       "      <td>NaT</td>\n",
       "    </tr>\n",
       "    <tr>\n",
       "      <th>10646</th>\n",
       "      <td>ejfodfmfxlkgifuf.xyz</td>\n",
       "      <td>NaT</td>\n",
       "    </tr>\n",
       "  </tbody>\n",
       "</table>\n",
       "</div>"
      ],
      "text/plain": [
       "                        TLD       creation_date\n",
       "554               aoltw.net 2000-01-10 04:09:19\n",
       "1992                hec.net 1996-04-24 04:00:00\n",
       "9856   vtlfccmfxlkgifuf.com                 NaT\n",
       "10646  ejfodfmfxlkgifuf.xyz                 NaT"
      ]
     },
     "execution_count": 119,
     "metadata": {},
     "output_type": "execute_result"
    }
   ],
   "source": [
    "df_NIU['creation_date'] = dates\n",
    "df_NIU[['TLD','creation_date']]"
   ]
  },
  {
   "cell_type": "markdown",
   "metadata": {},
   "source": [
    "Podemos observar que los dominios que tienen como TLD aoltw.net tienen todos las mismas exactas fechas de creación lo cual podemos confirmarlo como sospechosos. Además existen dominios de los cuales no pudimos obtener infomración de la fecha de creación utilizando la libreria whois por lo tanto esos tambien se marcan como sospechosos "
   ]
  }
 ],
 "metadata": {
  "interpreter": {
   "hash": "dc4c4a1e9de68e08094863ad3a47c599502a3f583c6d5c8fece896832f354908"
  },
  "kernelspec": {
   "display_name": "venv",
   "language": "python",
   "name": "venv"
  },
  "language_info": {
   "codemirror_mode": {
    "name": "ipython",
    "version": 3
   },
   "file_extension": ".py",
   "mimetype": "text/x-python",
   "name": "python",
   "nbconvert_exporter": "python",
   "pygments_lexer": "ipython3",
   "version": "3.8.1"
  }
 },
 "nbformat": 4,
 "nbformat_minor": 4
}
